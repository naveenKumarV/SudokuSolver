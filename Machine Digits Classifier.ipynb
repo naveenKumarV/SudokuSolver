{
 "cells": [
  {
   "cell_type": "code",
   "execution_count": 1,
   "metadata": {
    "collapsed": true
   },
   "outputs": [],
   "source": [
    "import numpy as np\n",
    "from matplotlib import pyplot as plt\n",
    "import cv2\n",
    "import tensorflow as tf"
   ]
  },
  {
   "cell_type": "code",
   "execution_count": 2,
   "metadata": {
    "collapsed": true
   },
   "outputs": [],
   "source": [
    "from random import shuffle\n",
    "\n",
    "def createMachineDigitsDataset(img_shape):\n",
    "    fonts = [cv2.FONT_HERSHEY_SIMPLEX,\n",
    "            cv2.FONT_HERSHEY_PLAIN,\n",
    "            cv2.FONT_HERSHEY_DUPLEX,\n",
    "            cv2.FONT_HERSHEY_COMPLEX,\n",
    "            cv2.FONT_HERSHEY_TRIPLEX,\n",
    "            cv2.FONT_HERSHEY_COMPLEX_SMALL,\n",
    "            cv2.FONT_HERSHEY_SCRIPT_SIMPLEX,\n",
    "            cv2.FONT_HERSHEY_SCRIPT_COMPLEX]\n",
    "    font_sizes = [1, 1.2, 1.4, 1.6, 1.75]\n",
    "    thickness = [1, 2]\n",
    "    dataset = []\n",
    "    for f in fonts:\n",
    "        for s in font_sizes:\n",
    "            for t in thickness:\n",
    "                for i in range(10):\n",
    "                    for x in [4, 3, -3,  2, -2, -4, 1, -1, 0]:\n",
    "                        for y in [4, 3, -3, 2, -2, -4, 1, -1, 0]:\n",
    "                            if s is 1.75 and y is 4:\n",
    "                                y = 3\n",
    "                            img = np.zeros(list(img_shape), dtype=np.float32)\n",
    "                            img[:, :] = 1\n",
    "                            text_size = cv2.getTextSize(str(i), f, s, t)[0]\n",
    "                            textX = (img.shape[1] - text_size[0]) // 2\n",
    "                            textY = (img.shape[0] + text_size[1]) // 2\n",
    "                            img = cv2.putText(img, str(i), (textX + x, textY + y), f, s, [0], t, cv2.LINE_AA)\n",
    "                            dataset.append((img, i))\n",
    "    shuffle(dataset)\n",
    "    images, labels = zip(*dataset)\n",
    "    training = (np.array(images[0:55000], dtype=np.float32), np.array(labels[0:55000], dtype=np.int32))\n",
    "    test = (np.array(images[55000:], dtype=np.float32), np.array(labels[55000:], dtype=np.int32))\n",
    "    return training, test"
   ]
  },
  {
   "cell_type": "code",
   "execution_count": null,
   "metadata": {
    "collapsed": true
   },
   "outputs": [],
   "source": [
    "train, test = createMachineDigitsDataset((42, 42))\n",
    "print(train[0].shape)\n",
    "print(test[0].shape)"
   ]
  },
  {
   "cell_type": "code",
   "execution_count": null,
   "metadata": {
    "collapsed": true
   },
   "outputs": [],
   "source": [
    "np.savez_compressed('machine_digits_dataset', training_input = train[0], training_output = train[1], \n",
    "        test_input = test[0], test_output = test[1])"
   ]
  },
  {
   "cell_type": "code",
   "execution_count": 3,
   "metadata": {
    "collapsed": true
   },
   "outputs": [],
   "source": [
    "def convert_one_hot(feature, label):\n",
    "    return (feature, tf.one_hot(label, 10, on_value=1.0, off_value=0.0, dtype=tf.float32, axis=-1))\n",
    "\n",
    "with np.load('machine_digits_dataset.npz') as data:\n",
    "    train = (data[\"training_input\"], data[\"training_output\"])\n",
    "    test = (data[\"test_input\"], data[\"test_output\"])\n",
    "\n",
    "training_dataset = tf.contrib.data.Dataset.from_tensor_slices(train)\n",
    "training_dataset = training_dataset.map(convert_one_hot)\n",
    "training_dataset = training_dataset.repeat()\n",
    "training_dataset = training_dataset.batch(50)\n",
    "\n",
    "\n",
    "test_dataset = tf.contrib.data.Dataset.from_tensor_slices(test)\n",
    "test_dataset = test_dataset.map(convert_one_hot) \n",
    "test_dataset = test_dataset.batch(50)"
   ]
  },
  {
   "cell_type": "code",
   "execution_count": 4,
   "metadata": {
    "collapsed": true
   },
   "outputs": [],
   "source": [
    "with tf.name_scope('input'):\n",
    "    x = tf.placeholder(tf.float32, name = \"x\")\n",
    "    x_image = tf.reshape(x, [-1, 42, 42, 1])\n",
    "    y = tf.placeholder(tf.float32, name = \"y\")"
   ]
  },
  {
   "cell_type": "code",
   "execution_count": 5,
   "metadata": {
    "collapsed": true
   },
   "outputs": [],
   "source": [
    "with tf.name_scope('conv1'):\n",
    "    w1 = tf.Variable(tf.truncated_normal([5, 5, 1, 32], stddev = 0.1), name=\"w1\")\n",
    "    b1 = tf.Variable(tf.truncated_normal([32], stddev = 0.1), name=\"b1\")\n",
    "    conv1 = tf.nn.relu(tf.add(tf.nn.conv2d(x_image, w1, strides = [1, 1, 1, 1], padding='SAME'), b1))\n",
    "    \n",
    "    \n",
    "with tf.name_scope('pool1'):\n",
    "    pool1 = tf.nn.max_pool(conv1, ksize=[1, 2, 2, 1], strides=[1, 2, 2, 1], padding='SAME')"
   ]
  },
  {
   "cell_type": "code",
   "execution_count": 6,
   "metadata": {
    "collapsed": true
   },
   "outputs": [],
   "source": [
    "with tf.name_scope('conv2'):\n",
    "    w2 = tf.Variable(tf.truncated_normal([5, 5, 32, 64], stddev = 0.1), name=\"w2\")\n",
    "    b2 = tf.Variable(tf.truncated_normal([64], stddev = 0.1), name=\"b2\")\n",
    "    conv2 = tf.nn.relu(tf.add(tf.nn.conv2d(pool1, w2, strides = [1, 1, 1, 1], padding = 'SAME'), b2))\n",
    "    \n",
    "    \n",
    "with tf.name_scope('pool2'):\n",
    "    pool2 = tf.nn.max_pool(conv2, ksize=[1, 2, 2, 1], strides=[1, 2, 2, 1], padding='SAME')"
   ]
  },
  {
   "cell_type": "code",
   "execution_count": 7,
   "metadata": {
    "collapsed": true
   },
   "outputs": [],
   "source": [
    "with tf.name_scope('fc1'):\n",
    "    w_fc1 = tf.Variable(tf.truncated_normal([11*11*64, 1536], stddev = 0.1), name=\"w_fc1\")\n",
    "    b_fc1 = tf.Variable(tf.truncated_normal([1536], stddev = 0.1), name = \"b_fc1\")\n",
    "    \n",
    "    pool2_flat = tf.reshape(pool2, [-1, 11*11*64])\n",
    "    fc1 = tf.nn.relu(tf.add(tf.matmul(pool2_flat, w_fc1), b_fc1))\n",
    "\n",
    "    keep_prob = tf.placeholder(tf.float32, name = \"keep_prob\")\n",
    "    fc1_drop = tf.nn.dropout(fc1, keep_prob)"
   ]
  },
  {
   "cell_type": "code",
   "execution_count": 8,
   "metadata": {
    "collapsed": true
   },
   "outputs": [],
   "source": [
    "with tf.name_scope('fc2'):\n",
    "    w_fc2 = tf.Variable(tf.truncated_normal([1536, 10], stddev = 0.1), name=\"w_fc2\")\n",
    "    b_fc2 = tf.Variable(tf.truncated_normal([10], stddev = 0.1), name=\"b_fc2\")\n",
    "\n",
    "    y_ = tf.add(tf.matmul(fc1_drop, w_fc2), b_fc2)"
   ]
  },
  {
   "cell_type": "code",
   "execution_count": 9,
   "metadata": {
    "collapsed": true
   },
   "outputs": [],
   "source": [
    "cross_entropy = tf.reduce_mean(tf.nn.softmax_cross_entropy_with_logits(labels = y, logits = y_, name = \"cross_entropy\"))\n",
    "training_step = tf.train.AdamOptimizer(1e-4).minimize(cross_entropy)\n",
    "num_correct = tf.reduce_sum(tf.cast(tf.equal(tf.argmax(y_, 1), tf.argmax(y, 1)), tf.float32))"
   ]
  },
  {
   "cell_type": "code",
   "execution_count": null,
   "metadata": {
    "scrolled": false
   },
   "outputs": [
    {
     "name": "stdout",
     "output_type": "stream",
     "text": [
      "0\n"
     ]
    },
    {
     "data": {
      "image/png": "[encoded data removed]",
      "text/plain": [
       "<matplotlib.figure.Figure at 0x1f47b3d6860>"
      ]
     },
     "metadata": {},
     "output_type": "display_data"
    }
   ],
   "source": [
    "num_iter = 1\n",
    "loss = []\n",
    "test_size = 9800\n",
    "\n",
    "saver = tf.train.Saver()\n",
    "\n",
    "with tf.Session() as sess:\n",
    "    sess.run(tf.global_variables_initializer())\n",
    "    iterator = training_dataset.make_one_shot_iterator()\n",
    "    next_element = iterator.get_next()\n",
    "    for i in range(num_iter):\n",
    "        if i % 100 is 0:\n",
    "            print(i)\n",
    "        try:\n",
    "            batch = sess.run(next_element)\n",
    "            _, training_loss = sess.run([training_step, cross_entropy], feed_dict = {x : batch[0], y : batch[1], keep_prob : 0.5})\n",
    "            loss.append(training_loss)\n",
    "        except tf.errors.OutOfRangeError:\n",
    "            break\n",
    "        \n",
    "    plt.plot(list(range(num_iter)), loss)\n",
    "    plt.xlabel('iteration')\n",
    "    plt.ylabel('Loss')\n",
    "    plt.show()\n",
    "    \n",
    "    iterator = test_dataset.make_one_shot_iterator()\n",
    "    next_element = iterator.get_next()\n",
    "    total_correct = 0\n",
    "    while True:\n",
    "        try:\n",
    "            batch = sess.run(next_element)\n",
    "            total_correct = total_correct + sess.run(num_correct, feed_dict = {x : batch[0], y : batch[1], keep_prob : 1.0})\n",
    "        except tf.errors.OutOfRangeError:\n",
    "            break\n",
    "    print(total_correct / test_size)\n",
    "    save_path = saver.save(sess, \"F:\\\\Code\\\\Python\\\\machine_digits_model\\\\machine_digits_classifier.ckpt\")\n",
    "    print(\"Model saved in file: %s\" % save_path)"
   ]
  },
  {
   "cell_type": "code",
   "execution_count": null,
   "metadata": {
    "collapsed": true
   },
   "outputs": [],
   "source": []
  }
 ],
 "metadata": {
  "kernelspec": {
   "display_name": "Python [default]",
   "language": "python",
   "name": "python3"
  },
  "language_info": {
   "codemirror_mode": {
    "name": "ipython",
    "version": 3
   },
   "file_extension": ".py",
   "mimetype": "text/x-python",
   "name": "python",
   "nbconvert_exporter": "python",
   "pygments_lexer": "ipython3",
   "version": "3.5.4"
  }
 },
 "nbformat": 4,
 "nbformat_minor": 2
}
