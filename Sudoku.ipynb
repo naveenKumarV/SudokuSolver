{
 "cells": [
  {
   "cell_type": "code",
   "execution_count": null,
   "metadata": {
    "collapsed": true
   },
   "outputs": [],
   "source": [
    "import numpy as np\n",
    "import cv2\n",
    "from matplotlib import pyplot as plt\n",
    "import tensorflow as tf"
   ]
  },
  {
   "cell_type": "code",
   "execution_count": null,
   "metadata": {
    "collapsed": true
   },
   "outputs": [],
   "source": [
    "img_color = cv2.imread('sudoku.jpeg', 1)\n",
    "img_gray = cv2.imread('sudoku.jpeg', 0)\n",
    "\n",
    "image_area = img_gray.shape[0] * img_gray.shape[1]\n",
    "\n",
    "img = cv2.bilateralFilter(img_gray, 9, 75, 75)\n",
    "img = cv2.adaptiveThreshold(img_gray,255,cv2.ADAPTIVE_THRESH_GAUSSIAN_C, cv2.THRESH_BINARY,11,2)"
   ]
  },
  {
   "cell_type": "code",
   "execution_count": null,
   "metadata": {
    "collapsed": true
   },
   "outputs": [],
   "source": [
    "im2, contours, hierarchy = cv2.findContours(img, cv2.RETR_TREE, cv2.CHAIN_APPROX_NONE)\n",
    "\n",
    "biggest_contour = None\n",
    "max_area = 0\n",
    "for cnt in contours:\n",
    "    area = cv2.contourArea(cnt)\n",
    "    if area > 100 and area > max_area:\n",
    "        perimeter = cv2.arcLength(cnt, True)\n",
    "        approx = cv2.approxPolyDP(cnt, 0.02*perimeter, True)\n",
    "        if len(approx) == 4 and area/image_area < 0.95:\n",
    "            biggest_contour = approx\n",
    "            max_area = area\n",
    "            \n",
    "            \n",
    "cv2.drawContours(img_color, [biggest_contour], 0, (0, 0, 255), 3)\n",
    "\n",
    "plt.imshow(img_color)\n",
    "plt.axis(\"off\")\n",
    "plt.show()"
   ]
  },
  {
   "cell_type": "code",
   "execution_count": null,
   "metadata": {
    "collapsed": true
   },
   "outputs": [],
   "source": [
    "vertices = np.zeros([4, 2], dtype=np.float32)\n",
    "contour_sum = biggest_contour.sum(axis = 2)\n",
    "vertices[0] = biggest_contour[contour_sum.argmin(), 0, :]\n",
    "vertices[2] = biggest_contour[contour_sum.argmax(), 0, :]\n",
    "l = [0, 1, 2, 3]\n",
    "l.remove(contour_sum.argmin())\n",
    "l.remove(contour_sum.argmax())\n",
    "if biggest_contour[l[0], 0, 0] < biggest_contour[l[1], 0, 0]:\n",
    "    vertices[1] = biggest_contour[l[0], 0, :]\n",
    "    vertices[3] = biggest_contour[l[1], 0, :]\n",
    "else:\n",
    "    vertices[1] = biggest_contour[l[1], 0, :]\n",
    "    vertices[3] = biggest_contour[l[0], 0, :]\n",
    "\n",
    "print(vertices)\n",
    "mapped_vertices = np.array([[0, 0], [0, 449], [449, 449], [449, 0]], dtype=np.float32)"
   ]
  },
  {
   "cell_type": "code",
   "execution_count": null,
   "metadata": {
    "collapsed": true
   },
   "outputs": [],
   "source": [
    "M = cv2.getPerspectiveTransform(vertices, mapped_vertices)\n",
    "sudoku_img = cv2.warpPerspective(img_gray, M, (450, 450))\n",
    "\n",
    "plt.imshow(sudoku_img, cmap='gray')\n",
    "plt.axis('off')\n",
    "plt.show()"
   ]
  },
  {
   "cell_type": "code",
   "execution_count": null,
   "metadata": {
    "collapsed": true
   },
   "outputs": [],
   "source": [
    "digits = []\n",
    "\n",
    "for i in range(9):\n",
    "    for j in range(9):\n",
    "        digit = [50*i + 4 : 50*(i+1) - 4, 50*j + 4: 50*(j+1) - 4]\n",
    "        # kernel = np.ones((2, 2),np.uint8)\n",
    "        # digit = cv2.erode(digit, kernel, iterations = 1)\n",
    "        digits.append(digit)\n",
    "        plt.subplot(9, 9, i*9 + j + 1)\n",
    "        plt.imshow(digit, cmap='gray')\n",
    "        plt.axis('off')\n",
    "plt.show()\n",
    "\n",
    "digits = numpy.array(digits)"
   ]
  },
  {
   "cell_type": "code",
   "execution_count": null,
   "metadata": {
    "collapsed": true
   },
   "outputs": [],
   "source": [
    "def CNNClassifier(images):\n",
    "    with tf.name_scope('input'):\n",
    "        x = tf.placeholder(tf.float32, name = \"x\")\n",
    "        x_image = tf.reshape(x, [-1, 42, 42, 1])\n",
    "\n",
    "    with tf.name_scope('conv1'):\n",
    "        w1 = tf.Variable(tf.truncated_normal([5, 5, 1, 32], stddev = 0.1), name=\"w1\")\n",
    "        b1 = tf.Variable(tf.truncated_normal([32], stddev = 0.1), name=\"b1\")\n",
    "        conv1 = tf.nn.relu(tf.add(tf.nn.conv2d(x_image, w1, strides = [1, 1, 1, 1], padding='SAME'), b1))\n",
    "\n",
    "    with tf.name_scope('pool1'):\n",
    "        pool1 = tf.nn.max_pool(conv1, ksize=[1, 2, 2, 1], strides=[1, 2, 2, 1], padding='SAME')\n",
    "\n",
    "    with tf.name_scope('conv2'):\n",
    "        w2 = tf.Variable(tf.truncated_normal([5, 5, 32, 64], stddev = 0.1), name=\"w2\")\n",
    "        b2 = tf.Variable(tf.truncated_normal([64], stddev = 0.1), name=\"b2\")\n",
    "        conv2 = tf.nn.relu(tf.add(tf.nn.conv2d(pool1, w2, strides = [1, 1, 1, 1], padding = 'SAME'), b2))\n",
    "\n",
    "    with tf.name_scope('pool2'):\n",
    "        pool2 = tf.nn.max_pool(conv2, ksize=[1, 2, 2, 1], strides=[1, 2, 2, 1], padding='SAME')\n",
    "\n",
    "    with tf.name_scope('fc1'):\n",
    "        w_fc1 = tf.Variable(tf.truncated_normal([11*11*64, 1536], stddev = 0.1), name=\"w_fc1\")\n",
    "        b_fc1 = tf.Variable(tf.truncated_normal([1536], stddev = 0.1), name = \"b_fc1\")\n",
    "\n",
    "        pool2_flat = tf.reshape(pool2, [-1, 11*11*64])\n",
    "        fc1 = tf.nn.relu(tf.add(tf.matmul(pool2_flat, w_fc1), b_fc1))\n",
    "\n",
    "        keep_prob = tf.placeholder(tf.float32, name = \"keep_prob\")\n",
    "        fc1_drop = tf.nn.dropout(fc1, keep_prob)\n",
    "\n",
    "    with tf.name_scope('fc2'):\n",
    "        w_fc2 = tf.Variable(tf.truncated_normal([1536, 10], stddev = 0.1), name=\"w_fc2\")\n",
    "        b_fc2 = tf.Variable(tf.truncated_normal([10], stddev = 0.1), name=\"b_fc2\")\n",
    "\n",
    "        y = tf.softmax(tf.add(tf.matmul(fc1_drop, w_fc2), b_fc2))\n",
    "    \n",
    "    with tf.Session() as sess:\n",
    "        output = sess.run(y, feed_dict = {x : images, keep_prob : 1.0})\n",
    "        \n",
    "    return output"
   ]
  },
  {
   "cell_type": "code",
   "execution_count": null,
   "metadata": {
    "collapsed": true
   },
   "outputs": [],
   "source": [
    "labels = CNNClassifier(digits)\n",
    "for i in range(81):\n",
    "    if np.max(labels[i]) > 0.8:\n",
    "        labels[i] = np.argmax(labels[i])\n",
    "    else:\n",
    "        labels[i] = 0\n",
    "grid = np.reshape(labels, 9, 9)\n",
    "\n",
    "print(grid)"
   ]
  },
  {
   "cell_type": "code",
   "execution_count": null,
   "metadata": {
    "collapsed": true
   },
   "outputs": [],
   "source": [
    "def nextLocation(grid, x, y):\n",
    "    if x == 9:\n",
    "        return 9, 9\n",
    "    i = y + 1\n",
    "    while i < 9:\n",
    "        if grid[x, y] is 0:\n",
    "            return x, i\n",
    "        i = i + 1\n",
    "    return nextLocation(grid,  x, y)\n",
    "    \n",
    "    \n",
    "def isSafe(grid, x, y, num):\n",
    "    for i in range(9):\n",
    "        if i is not y and grid[x, i] is num:\n",
    "            return False\n",
    "    for i in range(9):\n",
    "        if i is not x and grid[i, x] is num:\n",
    "            return False\n",
    "    for i in range(3 * (x // 3), 3 * (x // 3) + 3, 1):\n",
    "        for j in range(3 * (y // 3), 3 * (y // 3) + 3, 1):\n",
    "            if i is not x and j is not y and grid[i, j] is num:\n",
    "                return False\n",
    "    return True\n",
    "\n",
    "\n",
    "def solveSudoku(grid, x, y):\n",
    "    if x == 9:\n",
    "        return True\n",
    "    p, q = nextLocation(grid, x, y)\n",
    "    for i in range(1, 10, 1):\n",
    "        if isSafe(grid, x, y, i):\n",
    "            grid[x, y] = i\n",
    "            if solveSudoku(grid, p, q):\n",
    "                return True\n",
    "            grid[x, y] = 0\n",
    "    return False\n",
    "\n",
    "\n",
    "def printSudoku(grid):\n",
    "    for i in range(9):\n",
    "        for j in range(9):\n",
    "            if (j + 1) % 3 is not 0:\n",
    "                print(grid[i, j], end = ' ')\n",
    "            else:\n",
    "                print(grid[i, j], end = ' | ')\n",
    "        print()\n",
    "        \n",
    "        if (i + 1) % 3 is 0:\n",
    "            for j in range(9):\n",
    "                print('-', end = ' ')\n",
    "            print()"
   ]
  },
  {
   "cell_type": "code",
   "execution_count": null,
   "metadata": {
    "collapsed": true
   },
   "outputs": [],
   "source": [
    "if solveSudoku(grid) is False:\n",
    "    print(\"Unable to solve Sudoku\")\n",
    "else:\n",
    "    printSudoku(grid)"
   ]
  }
 ],
 "metadata": {
  "kernelspec": {
   "display_name": "Python [default]",
   "language": "python",
   "name": "python3"
  },
  "language_info": {
   "codemirror_mode": {
    "name": "ipython",
    "version": 3
   },
   "file_extension": ".py",
   "mimetype": "text/x-python",
   "name": "python",
   "nbconvert_exporter": "python",
   "pygments_lexer": "ipython3",
   "version": "3.5.3"
  }
 },
 "nbformat": 4,
 "nbformat_minor": 2
}
